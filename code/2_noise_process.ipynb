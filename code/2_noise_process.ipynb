{
 "cells": [
  {
   "cell_type": "code",
   "execution_count": 7,
   "metadata": {},
   "outputs": [],
   "source": [
    "from pydub import AudioSegment\n",
    "import os\n",
    "import wave\n",
    "\n"
   ]
  },
  {
   "cell_type": "code",
   "execution_count": 8,
   "metadata": {},
   "outputs": [
    {
     "data": {
      "text/plain": [
       "'\\n    生成完全静止的音频\\n'"
      ]
     },
     "execution_count": 8,
     "metadata": {},
     "output_type": "execute_result"
    }
   ],
   "source": [
    "'''\n",
    "    得到现有音频的信息\n",
    "'''\n",
    "# import wave\n",
    "# scr_dic = '.\\data\\speech_commands_v0.01\\_background_noise_'\n",
    "# def get_wav_params(filename):\n",
    "#     with wave.open(filename, 'r') as wav_file:\n",
    "#         params = wav_file.getparams()\n",
    "#         nchannels, sampwidth, framerate, nframes, comptype, compname = params\n",
    "        \n",
    "#         # 打印参数信息\n",
    "#         print(f\"声道数: {nchannels}\")\n",
    "#         print(f\"采样宽度: {sampwidth}\")\n",
    "#         print(f\"帧率: {framerate}\")\n",
    "#         print(f\"帧数: {nframes}\")\n",
    "#         print(f\"压缩类型: {comptype}\")\n",
    "#         print(f\"压缩名称: {compname}\")\n",
    "\n",
    "# # 使用示例\n",
    "# filename = os.path.join(scr_dic, 'doing_the_dishes.wav')\n",
    "# get_wav_params(filename)  # 替换为你的WAV文件路径\n",
    "\n",
    "'''\n",
    "    生成完全静止的音频\n",
    "'''\n",
    "# def create_silence(filename, duration, frame_rate, channels, samp_width):\n",
    "#     # 计算总帧数\n",
    "#     num_frames = duration * frame_rate\n",
    "#     # 创建一个WAV文件\n",
    "#     with wave.open(filename, 'w') as wf:\n",
    "#         # 设置WAV文件的参数，包括压缩类型和压缩名称\n",
    "#         params = (1, 2, 16000, num_frames, 'NONE', 'not compressed')\n",
    "#         wf.setparams(params)\n",
    "        \n",
    "#         # 由于是静止的音频，我们只写入相同值的数据\n",
    "#         # 单声道，16位采样宽度，所以每个采样值是2字节\n",
    "#         silence_frame = bytes([0] * samp_width * channels)\n",
    "        \n",
    "#         # 写入帧数据，由于是静止音频，我们只重复相同的帧\n",
    "#         for _ in range(num_frames):\n",
    "#             wf.writeframes(silence_frame)\n",
    "\n",
    "\n",
    "# create_silence('silent.wav', 60, 16000, 1, 2)"
   ]
  },
  {
   "cell_type": "markdown",
   "metadata": {},
   "source": [
    "声道数: 1\n",
    "采样宽度: 2\n",
    "帧率: 16000\n",
    "帧数: 1522930\n",
    "压缩类型: NONE\n",
    "压缩名称: not compressed"
   ]
  },
  {
   "cell_type": "code",
   "execution_count": 9,
   "metadata": {},
   "outputs": [],
   "source": [
    "def Audio2seg(srcpath, srcfile, output_path, seg_len):\n",
    "    # 载入WAV文件\n",
    "    \n",
    "    audio = AudioSegment.from_wav(os.path.join(srcpath, srcfile))\n",
    "\n",
    "    # 计算需要切割的片数\n",
    "    num_slices = len(audio) // seg_len\n",
    "\n",
    "    # 进行切割并保存\n",
    "    for i in range(num_slices):\n",
    "        start_ms = i * seg_len\n",
    "        end_ms = start_ms + seg_len\n",
    "        # 切割音频片段SEGLEN\n",
    "        slice = audio[start_ms:end_ms]\n",
    "        # 定义输出文件名\n",
    "        output_file = os.path.join(output_path, f\"{srcfile}_{i}.wav\")\n",
    "        # 导出音频片段\n",
    "        slice.export(output_file, format=\"wav\")"
   ]
  },
  {
   "cell_type": "code",
   "execution_count": 10,
   "metadata": {},
   "outputs": [],
   "source": [
    "\n",
    "\n",
    "scr_dic = '.\\data\\speech_commands_v0.01\\_background_noise_'\n",
    "output_path = '.\\data\\data_mini_merge\\Silence'\n",
    "SEGLEN = 1000\n",
    "\n",
    "for file in os.listdir(scr_dic):\n",
    "    if file.lower().endswith('.wav'):\n",
    "        Audio2seg(scr_dic, file, output_path, SEGLEN)\n",
    "\n"
   ]
  }
 ],
 "metadata": {
  "kernelspec": {
   "display_name": "KWS",
   "language": "python",
   "name": "python3"
  },
  "language_info": {
   "codemirror_mode": {
    "name": "ipython",
    "version": 3
   },
   "file_extension": ".py",
   "mimetype": "text/x-python",
   "name": "python",
   "nbconvert_exporter": "python",
   "pygments_lexer": "ipython3",
   "version": "3.8.19"
  }
 },
 "nbformat": 4,
 "nbformat_minor": 2
}
