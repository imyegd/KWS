{
 "cells": [
  {
   "cell_type": "code",
   "execution_count": 14,
   "metadata": {},
   "outputs": [],
   "source": [
    "import os\n",
    "import shutil\n",
    "import random\n",
    "random.seed(42)\n",
    "\n",
    "def clear_folder(folder_path):\n",
    "    \n",
    "    if not os.path.exists(folder_path):\n",
    "        os.makedirs(folder_path)\n",
    "\n",
    "    for filename in os.listdir(folder_path):\n",
    "        file_path = os.path.join(folder_path, filename)\n",
    "        try:\n",
    "            if os.path.isfile(file_path) or os.path.islink(file_path):\n",
    "                os.unlink(file_path)  # 如果是文件或链接则删除\n",
    "            elif os.path.isdir(file_path):\n",
    "                shutil.rmtree(file_path)  # 如果是目录则递归删除\n",
    "        except Exception as e:\n",
    "            print(f'Failed to delete {file_path}. Reason: {e}')\n",
    "\n",
    "\n",
    "\n",
    "# 随机拷贝1/10的数据作为minidata，噪音单独处理\n",
    "def copy_random_files(src_dir, dst_dir, ratio=0.1):\n",
    "\n",
    "    clear_folder(dst_dir)\n",
    "\n",
    "    # 遍历源目录中的所有子文件夹\n",
    "    for subdir, dirs, files in os.walk(src_dir):\n",
    "        for folder in dirs:\n",
    "            if folder != \"_background_noise_\":\n",
    "                src_folder_path = os.path.join(src_dir, folder)\n",
    "                dst_folder_path = os.path.join(dst_dir, folder)\n",
    "                \n",
    "                # 如果目标子文件夹不存在，则创建它\n",
    "                if not os.path.exists(dst_folder_path):\n",
    "                    os.makedirs(dst_folder_path)\n",
    "                \n",
    "                # 获取所有文件并随机选择一部分进行复制\n",
    "                sub_files = os.listdir(src_folder_path)\n",
    "                files_to_copy = random.sample(sub_files, int(len(sub_files) * ratio))\n",
    "                for file in files_to_copy:\n",
    "                    src_file_path = os.path.join(src_folder_path, file)\n",
    "                    dst_file_path = os.path.join(dst_folder_path, file)\n",
    "                    shutil.copy(src_file_path, dst_file_path)\n",
    "\n"
   ]
  },
  {
   "cell_type": "code",
   "execution_count": 17,
   "metadata": {},
   "outputs": [],
   "source": [
    "# 使用示例\n",
    "source_directory = './data/speech_commands_v0.01'\n",
    "dsttination_directory = './data/data_clean'\n",
    "copy_random_files(source_directory, dsttination_directory, 1)"
   ]
  },
  {
   "cell_type": "code",
   "execution_count": 15,
   "metadata": {},
   "outputs": [],
   "source": [
    "# 将mini数据集划分成规定的种类\n",
    "# 将unknown balance一下\n",
    "import random\n",
    "def merge_specific_cate(src_dir, dst_dir, cate=[]):\n",
    "\n",
    "    clear_folder(dst_dir)\n",
    "    \n",
    "    for folder in cate:\n",
    "        dst_folder_path = os.path.join(dst_dir, folder)\n",
    "        if not os.path.exists(dst_folder_path):\n",
    "            os.makedirs(dst_folder_path)\n",
    "\n",
    "    for folder in os.listdir(src_dir):\n",
    "        dst_folder = folder[0].upper() + folder[1:]\n",
    "        if  dst_folder in cate:\n",
    "            dst_folder_path = os.path.join(dst_dir, dst_folder)\n",
    "        else:\n",
    "            # 如果随机数小于等于概率，则执行\n",
    "            probability = 0.0625\n",
    "            random_number = random.random()\n",
    "            if random_number <= probability:\n",
    "\n",
    "                default_folder = cate[-1]\n",
    "                dst_folder_path = os.path.join(dst_dir, default_folder, dst_folder)\n",
    "                if not os.path.exists(dst_folder_path):\n",
    "                    os.makedirs(dst_folder_path)\n",
    "        \n",
    "        src_folder_path = os.path.join(src_dir, folder)\n",
    "        for file in os.listdir(src_folder_path):\n",
    "            src_file_path = os.path.join(src_folder_path, file)\n",
    "            dst_file_path = os.path.join(dst_folder_path, file)\n",
    "            shutil.copy(src_file_path, dst_file_path)\n",
    "\n",
    "            \n",
    "        "
   ]
  },
  {
   "cell_type": "code",
   "execution_count": 18,
   "metadata": {},
   "outputs": [],
   "source": [
    "src_directory = 'data\\\\data_clean'\n",
    "dst_directory = 'data\\\\data_balance'\n",
    "cate = [\"Yes\" , \"No\", \"Up\" , \"Down\" , \"Left\" , \"Right\" , \"On\" , \"Off\" , \"Stop\" , \"Go\" , \"Silence\" , \"Unknown\"]\n",
    "merge_specific_cate(src_directory, dst_directory, cate)\n",
    "# os.listdir(src_directory)"
   ]
  }
 ],
 "metadata": {
  "kernelspec": {
   "display_name": "KWS",
   "language": "python",
   "name": "python3"
  },
  "language_info": {
   "codemirror_mode": {
    "name": "ipython",
    "version": 3
   },
   "file_extension": ".py",
   "mimetype": "text/x-python",
   "name": "python",
   "nbconvert_exporter": "python",
   "pygments_lexer": "ipython3",
   "version": "3.8.19"
  }
 },
 "nbformat": 4,
 "nbformat_minor": 2
}
