{
 "cells": [
  {
   "cell_type": "code",
   "execution_count": 3,
   "metadata": {},
   "outputs": [],
   "source": [
    "\n"
   ]
  },
  {
   "cell_type": "code",
   "execution_count": 2,
   "metadata": {},
   "outputs": [
    {
     "name": "stdout",
     "output_type": "stream",
     "text": [
      "声道数: 1\n",
      "采样宽度: 2\n",
      "帧率: 16000\n",
      "帧数: 16000\n",
      "压缩类型: NONE\n",
      "压缩名称: not compressed\n"
     ]
    }
   ],
   "source": [
    "import wave\n",
    "import os\n",
    "import numpy as np\n",
    "from pydub import AudioSegment\n",
    "\n",
    "\n",
    "def get_wav_params(filename):\n",
    "    with wave.open(filename, 'r') as wav_file:\n",
    "        params = wav_file.getparams()\n",
    "        nchannels, sampwidth, framerate, nframes, comptype, compname = params\n",
    "        \n",
    "        # 打印参数信息\n",
    "        print(f\"声道数: {nchannels}\")\n",
    "        print(f\"采样宽度: {sampwidth}\")\n",
    "        print(f\"帧率: {framerate}\")\n",
    "        print(f\"帧数: {nframes}\")\n",
    "        print(f\"压缩类型: {comptype}\")\n",
    "        print(f\"压缩名称: {compname}\")\n",
    "\n",
    "\n",
    "file = 'data\\data_mini_merge\\Down\\\\0f3f64d5_nohash_0.wav'\n",
    "get_wav_params(filename=file)"
   ]
  },
  {
   "cell_type": "code",
   "execution_count": 6,
   "metadata": {},
   "outputs": [
    {
     "name": "stdout",
     "output_type": "stream",
     "text": [
      "Processed .\\data\\speech_commands_v0.01\\bird\\0a7c2a8d_nohash_0.wav\n"
     ]
    }
   ],
   "source": [
    "import wave\n",
    "import numpy as np\n",
    "\n",
    "# 归一化函数\n",
    "def normalize(wav_data):\n",
    "    max_val = np.max(np.abs(wav_data))\n",
    "    if max_val > 0:\n",
    "        return wav_data / max_val\n",
    "    return wav_data\n",
    "\n",
    "# 长度标准化函数 - 这里我们选择填充（扩充）方式\n",
    "def standardize_length(wav_data, desired_length):\n",
    "    current_length = len(wav_data)\n",
    "    if current_length == desired_length:\n",
    "        return wav_data\n",
    "    elif current_length < desired_length:\n",
    "        padding = np.zeros(desired_length - current_length)\n",
    "        return np.concatenate((wav_data, padding))\n",
    "    else:  # 当前长度大于期望长度时进行截断\n",
    "        return wav_data[:desired_length]\n",
    "\n",
    "# 读取WAV文件并处理\n",
    "def process_wav_files(wav_files, desired_length):\n",
    "    for file_path in wav_files:\n",
    "        # 打开WAV文件\n",
    "        with wave.open(file_path, 'rb') as wav_file:\n",
    "            # 读取音频数据\n",
    "            wav_data = np.frombuffer(wav_file.readframes(wav_file.getnframes()), dtype=np.int16)\n",
    "            \n",
    "            # 归一化音频数据\n",
    "            wav_data_normalized = normalize(wav_data)\n",
    "            \n",
    "            # 长度标准化\n",
    "            wav_data_standardized = standardize_length(wav_data_normalized, desired_length)\n",
    "            \n",
    "            # 这里可以选择保存处理后的音频数据\n",
    "            # save_processed_wav(wav_data_standardized, file_path, wav_file.getframerate())\n",
    "\n",
    "            \n",
    "            print(f\"Processed {file_path}\")\n",
    "\n",
    "# 假设你有一个包含WAV文件路径的列表\n",
    "wav_files_list = ['file1.wav', 'file2.wav', 'file3.wav', ..., 'file10.wav']\n",
    "# 设置你想要标准化到的长度（例如，1秒钟的音频）\n",
    "desired_length = 16000  \n",
    "\n",
    "# 处理所有WAV文件\n",
    "file = os.path.join(scr_dic, '0a7c2a8d_nohash_0.wav')\n",
    "process_wav_files([file], desired_length)"
   ]
  },
  {
   "cell_type": "code",
   "execution_count": 1,
   "metadata": {},
   "outputs": [],
   "source": [
    "import os\n",
    "noise_list = os.listdir(\"data\\data_balance\\Silence\")\n",
    "with open(\"data/noise_list.txt\", 'w', encoding='utf-8') as f:\n",
    "    f.write('\\n'.join(noise_list))"
   ]
  }
 ],
 "metadata": {
  "kernelspec": {
   "display_name": "KWS",
   "language": "python",
   "name": "python3"
  },
  "language_info": {
   "codemirror_mode": {
    "name": "ipython",
    "version": 3
   },
   "file_extension": ".py",
   "mimetype": "text/x-python",
   "name": "python",
   "nbconvert_exporter": "python",
   "pygments_lexer": "ipython3",
   "version": "3.8.19"
  }
 },
 "nbformat": 4,
 "nbformat_minor": 2
}
